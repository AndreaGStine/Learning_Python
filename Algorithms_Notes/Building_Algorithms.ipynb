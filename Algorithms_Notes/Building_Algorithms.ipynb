{
 "cells": [
  {
   "cell_type": "code",
   "execution_count": 2,
   "metadata": {},
   "outputs": [],
   "source": [
    "import numpy as np\n",
    "import pandas as pd"
   ]
  },
  {
   "cell_type": "code",
   "execution_count": null,
   "metadata": {},
   "outputs": [],
   "source": [
    "# Ternary search\n",
    "# Goal: find max(f) = c or min(f) = c\n",
    "# Assumption: f is increasing in [a,c] and decreasing in [c,b] "
   ]
  },
  {
   "cell_type": "code",
   "execution_count": 5,
   "metadata": {},
   "outputs": [],
   "source": [
    "def ternarySearch(errorThreshold, lowerBound, upperBound, findMax=True):\n",
    "    error = upperBound - lowerBound\n",
    "    if findMax:\n",
    "        k=1\n",
    "    else:\n",
    "        k = -1\n",
    "    while error > errorThreshold:\n",
    "        lowerMid = lowerBound + (upperBound - lowerBound)/3\n",
    "        upperMid = upperBound - (upperBound - lowerBound)/3\n",
    "        if k*realFunction(lowerMid) < k*realFunction(upperMid):\n",
    "            lowerBound = lowerMid\n",
    "        elif k*realFunction(lowerMid) > k*realFunction(upperMid):\n",
    "            upperBound = upperMid\n",
    "        else:\n",
    "            lowerBound = lowerMid\n",
    "            upperBound = upperMid\n",
    "        error = upperBound - lowerBound\n",
    "\n",
    "    return (lowerBound + upperBound)/2\n",
    "\n",
    "        \n",
    "\n"
   ]
  },
  {
   "cell_type": "code",
   "execution_count": 6,
   "metadata": {},
   "outputs": [
    {
     "data": {
      "text/plain": [
       "1.7320526529027143"
      ]
     },
     "execution_count": 6,
     "metadata": {},
     "output_type": "execute_result"
    }
   ],
   "source": [
    "def realFunction(x):\n",
    "    return -(x-3**0.5)**2\n",
    "\n",
    "errorThreshold = 0.001\n",
    "lowerBound = 0\n",
    "upperBound = 10\n",
    "findMax = True\n",
    "\n",
    "ternarySearch(errorThreshold,lowerBound,upperBound,findMax)"
   ]
  },
  {
   "cell_type": "code",
   "execution_count": null,
   "metadata": {},
   "outputs": [],
   "source": []
  }
 ],
 "metadata": {
  "kernelspec": {
   "display_name": "myanacondaenvironment",
   "language": "python",
   "name": "python3"
  },
  "language_info": {
   "codemirror_mode": {
    "name": "ipython",
    "version": 3
   },
   "file_extension": ".py",
   "mimetype": "text/x-python",
   "name": "python",
   "nbconvert_exporter": "python",
   "pygments_lexer": "ipython3",
   "version": "3.11.5"
  }
 },
 "nbformat": 4,
 "nbformat_minor": 2
}

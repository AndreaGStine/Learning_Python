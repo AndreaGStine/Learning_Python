{
 "cells": [
  {
   "cell_type": "code",
   "execution_count": 1,
   "metadata": {},
   "outputs": [],
   "source": [
    "import numpy as np\n",
    "import pandas as pd\n",
    "from sklearn import linear_model"
   ]
  },
  {
   "cell_type": "code",
   "execution_count": 3,
   "metadata": {},
   "outputs": [],
   "source": [
    "# Ternary search\n",
    "# Goal: find max(f) = c or min(f) = c\n",
    "# Assumption: f is increasing in [a,c] and decreasing in [c,b] "
   ]
  },
  {
   "cell_type": "code",
   "execution_count": 4,
   "metadata": {},
   "outputs": [],
   "source": [
    "def ternarySearch(errorThreshold, lowerBound, upperBound, findMax=True):\n",
    "    error = upperBound - lowerBound\n",
    "    if findMax:\n",
    "        k=1\n",
    "    else:\n",
    "        k = -1\n",
    "    while error > errorThreshold:\n",
    "        lowerMid = lowerBound + (upperBound - lowerBound)/3\n",
    "        upperMid = upperBound - (upperBound - lowerBound)/3\n",
    "        if k*realFunction(lowerMid) < k*realFunction(upperMid):\n",
    "            lowerBound = lowerMid\n",
    "        elif k*realFunction(lowerMid) > k*realFunction(upperMid):\n",
    "            upperBound = upperMid\n",
    "        else:\n",
    "            lowerBound = lowerMid\n",
    "            upperBound = upperMid\n",
    "        error = upperBound - lowerBound\n",
    "\n",
    "    return (lowerBound + upperBound)/2\n",
    "\n",
    "        \n",
    "\n"
   ]
  },
  {
   "cell_type": "code",
   "execution_count": 5,
   "metadata": {},
   "outputs": [
    {
     "data": {
      "text/plain": [
       "1.7320526529027143"
      ]
     },
     "execution_count": 5,
     "metadata": {},
     "output_type": "execute_result"
    }
   ],
   "source": [
    "def realFunction(x):\n",
    "    return -(x-3**0.5)**2\n",
    "\n",
    "errorThreshold = 0.001\n",
    "lowerBound = 0\n",
    "upperBound = 10\n",
    "findMax = True\n",
    "\n",
    "ternarySearch(errorThreshold,lowerBound,upperBound,findMax)"
   ]
  },
  {
   "cell_type": "code",
   "execution_count": 62,
   "metadata": {},
   "outputs": [
    {
     "name": "stdout",
     "output_type": "stream",
     "text": [
      "     A   B\n",
      "0  NaN   1\n",
      "1  NaN   2\n",
      "2  3.0   3\n",
      "3  NaN   4\n",
      "4  5.0   5\n",
      "5  6.0   6\n",
      "6  NaN   7\n",
      "7  NaN   8\n",
      "8  9.0   9\n",
      "9  NaN  10\n"
     ]
    }
   ],
   "source": [
    "df = pd.DataFrame({'A': [None,None,3,None,5,6,None,None,9,None],'B':[1,2,3,4,5,6,7,8,9,10]})\n",
    "print(df)"
   ]
  },
  {
   "cell_type": "code",
   "execution_count": 63,
   "metadata": {},
   "outputs": [],
   "source": [
    "model = linear_model.LinearRegression()"
   ]
  },
  {
   "cell_type": "code",
   "execution_count": 64,
   "metadata": {},
   "outputs": [
    {
     "data": {
      "text/html": [
       "<style>#sk-container-id-8 {color: black;}#sk-container-id-8 pre{padding: 0;}#sk-container-id-8 div.sk-toggleable {background-color: white;}#sk-container-id-8 label.sk-toggleable__label {cursor: pointer;display: block;width: 100%;margin-bottom: 0;padding: 0.3em;box-sizing: border-box;text-align: center;}#sk-container-id-8 label.sk-toggleable__label-arrow:before {content: \"▸\";float: left;margin-right: 0.25em;color: #696969;}#sk-container-id-8 label.sk-toggleable__label-arrow:hover:before {color: black;}#sk-container-id-8 div.sk-estimator:hover label.sk-toggleable__label-arrow:before {color: black;}#sk-container-id-8 div.sk-toggleable__content {max-height: 0;max-width: 0;overflow: hidden;text-align: left;background-color: #f0f8ff;}#sk-container-id-8 div.sk-toggleable__content pre {margin: 0.2em;color: black;border-radius: 0.25em;background-color: #f0f8ff;}#sk-container-id-8 input.sk-toggleable__control:checked~div.sk-toggleable__content {max-height: 200px;max-width: 100%;overflow: auto;}#sk-container-id-8 input.sk-toggleable__control:checked~label.sk-toggleable__label-arrow:before {content: \"▾\";}#sk-container-id-8 div.sk-estimator input.sk-toggleable__control:checked~label.sk-toggleable__label {background-color: #d4ebff;}#sk-container-id-8 div.sk-label input.sk-toggleable__control:checked~label.sk-toggleable__label {background-color: #d4ebff;}#sk-container-id-8 input.sk-hidden--visually {border: 0;clip: rect(1px 1px 1px 1px);clip: rect(1px, 1px, 1px, 1px);height: 1px;margin: -1px;overflow: hidden;padding: 0;position: absolute;width: 1px;}#sk-container-id-8 div.sk-estimator {font-family: monospace;background-color: #f0f8ff;border: 1px dotted black;border-radius: 0.25em;box-sizing: border-box;margin-bottom: 0.5em;}#sk-container-id-8 div.sk-estimator:hover {background-color: #d4ebff;}#sk-container-id-8 div.sk-parallel-item::after {content: \"\";width: 100%;border-bottom: 1px solid gray;flex-grow: 1;}#sk-container-id-8 div.sk-label:hover label.sk-toggleable__label {background-color: #d4ebff;}#sk-container-id-8 div.sk-serial::before {content: \"\";position: absolute;border-left: 1px solid gray;box-sizing: border-box;top: 0;bottom: 0;left: 50%;z-index: 0;}#sk-container-id-8 div.sk-serial {display: flex;flex-direction: column;align-items: center;background-color: white;padding-right: 0.2em;padding-left: 0.2em;position: relative;}#sk-container-id-8 div.sk-item {position: relative;z-index: 1;}#sk-container-id-8 div.sk-parallel {display: flex;align-items: stretch;justify-content: center;background-color: white;position: relative;}#sk-container-id-8 div.sk-item::before, #sk-container-id-8 div.sk-parallel-item::before {content: \"\";position: absolute;border-left: 1px solid gray;box-sizing: border-box;top: 0;bottom: 0;left: 50%;z-index: -1;}#sk-container-id-8 div.sk-parallel-item {display: flex;flex-direction: column;z-index: 1;position: relative;background-color: white;}#sk-container-id-8 div.sk-parallel-item:first-child::after {align-self: flex-end;width: 50%;}#sk-container-id-8 div.sk-parallel-item:last-child::after {align-self: flex-start;width: 50%;}#sk-container-id-8 div.sk-parallel-item:only-child::after {width: 0;}#sk-container-id-8 div.sk-dashed-wrapped {border: 1px dashed gray;margin: 0 0.4em 0.5em 0.4em;box-sizing: border-box;padding-bottom: 0.4em;background-color: white;}#sk-container-id-8 div.sk-label label {font-family: monospace;font-weight: bold;display: inline-block;line-height: 1.2em;}#sk-container-id-8 div.sk-label-container {text-align: center;}#sk-container-id-8 div.sk-container {/* jupyter's `normalize.less` sets `[hidden] { display: none; }` but bootstrap.min.css set `[hidden] { display: none !important; }` so we also need the `!important` here to be able to override the default hidden behavior on the sphinx rendered scikit-learn.org. See: https://github.com/scikit-learn/scikit-learn/issues/21755 */display: inline-block !important;position: relative;}#sk-container-id-8 div.sk-text-repr-fallback {display: none;}</style><div id=\"sk-container-id-8\" class=\"sk-top-container\"><div class=\"sk-text-repr-fallback\"><pre>LinearRegression()</pre><b>In a Jupyter environment, please rerun this cell to show the HTML representation or trust the notebook. <br />On GitHub, the HTML representation is unable to render, please try loading this page with nbviewer.org.</b></div><div class=\"sk-container\" hidden><div class=\"sk-item\"><div class=\"sk-estimator sk-toggleable\"><input class=\"sk-toggleable__control sk-hidden--visually\" id=\"sk-estimator-id-8\" type=\"checkbox\" checked><label for=\"sk-estimator-id-8\" class=\"sk-toggleable__label sk-toggleable__label-arrow\">LinearRegression</label><div class=\"sk-toggleable__content\"><pre>LinearRegression()</pre></div></div></div></div></div>"
      ],
      "text/plain": [
       "LinearRegression()"
      ]
     },
     "execution_count": 64,
     "metadata": {},
     "output_type": "execute_result"
    }
   ],
   "source": [
    "mask = df['A'].notna()\n",
    "maskdf = df[mask]\n",
    "X = np.array(maskdf.index + 1).reshape(-1,1)\n",
    "y = np.array(maskdf)\n",
    "# print(X, y)\n",
    "model.fit(X,y)"
   ]
  },
  {
   "cell_type": "code",
   "execution_count": 65,
   "metadata": {},
   "outputs": [],
   "source": [
    "df['A'] = model.predict((np.array(df.index + 1).reshape(-1,1)))[:,1]"
   ]
  },
  {
   "cell_type": "code",
   "execution_count": 66,
   "metadata": {},
   "outputs": [
    {
     "name": "stdout",
     "output_type": "stream",
     "text": [
      "      A   B\n",
      "0   1.0   1\n",
      "1   2.0   2\n",
      "2   3.0   3\n",
      "3   4.0   4\n",
      "4   5.0   5\n",
      "5   6.0   6\n",
      "6   7.0   7\n",
      "7   8.0   8\n",
      "8   9.0   9\n",
      "9  10.0  10\n"
     ]
    }
   ],
   "source": [
    "# df['A'] = df['A'].interpolate(method='linear', limit_direction='both')\n",
    "print(df)"
   ]
  },
  {
   "cell_type": "code",
   "execution_count": 17,
   "metadata": {},
   "outputs": [
    {
     "name": "stdout",
     "output_type": "stream",
     "text": [
      "          x         y  s\n",
      "0 -2.203490 -1.486848  0\n",
      "1  1.749761  1.164370  1\n",
      "2  2.000524  0.193887  1\n",
      "3 -0.059321  1.115804  1\n",
      "4 -1.304932 -0.072025  0\n",
      "5  0.946122  1.007252  1\n",
      "6 -2.049274 -0.181172  0\n",
      "7  1.860681  2.406346  1\n",
      "8  1.111361  2.161548  1\n",
      "9 -2.636802 -2.267796  0\n"
     ]
    }
   ],
   "source": [
    "import numpy as np\n",
    "import pandas as pd\n",
    "\n",
    "np.random.seed(134035)\n",
    "n = 10\n",
    "\n",
    "# Generate binary outcome s ~ Bernoulli(0.5)\n",
    "s = np.random.binomial(1, 0.5, size=n)\n",
    "\n",
    "# Parameter for separation\n",
    "a = 0.9428  # chosen so that L = x+y has theoretical correlation ~0.8 with s\n",
    "\n",
    "# Conditional means for (x,y)\n",
    "mu0 = np.array([-a, -a])\n",
    "mu1 = np.array([a, a])\n",
    "cov = np.eye(2)  # identity covariance\n",
    "\n",
    "# Preallocate array for (x,y)\n",
    "xy = np.zeros((n, 2))\n",
    "\n",
    "# Generate (x,y) from the appropriate conditional multivariate normal\n",
    "mask = s == 1\n",
    "xy[mask] = np.random.multivariate_normal(mu1, cov, size=np.sum(mask))\n",
    "xy[~mask] = np.random.multivariate_normal(mu0, cov, size=np.sum(~mask))\n",
    "\n",
    "# Assemble the DataFrame\n",
    "df = pd.DataFrame(xy, columns=['x', 'y'])\n",
    "df['s'] = s\n",
    "print(df)\n"
   ]
  },
  {
   "cell_type": "code",
   "execution_count": 18,
   "metadata": {},
   "outputs": [
    {
     "name": "stdout",
     "output_type": "stream",
     "text": [
      "          x         y\n",
      "0 -2.203490 -1.486848\n",
      "1  1.749761  1.164370\n",
      "2  2.000524  0.193887\n",
      "3 -0.059321  1.115804\n",
      "4 -1.304932 -0.072025\n",
      "5  0.946122  1.007252\n",
      "6 -2.049274 -0.181172\n",
      "7  1.860681  2.406346\n",
      "8  1.111361  2.161548\n",
      "9 -2.636802 -2.267796\n",
      "[[-2.20348996 -1.4868476 ]\n",
      " [ 1.74976064  1.16436995]\n",
      " [ 2.00052364  0.19388728]\n",
      " [-0.0593206   1.11580365]\n",
      " [-1.30493179 -0.07202534]\n",
      " [ 0.9461219   1.00725197]\n",
      " [-2.04927397 -0.18117167]\n",
      " [ 1.86068071  2.40634599]\n",
      " [ 1.11136127  2.16154835]\n",
      " [-2.63680194 -2.26779619]] [0 1 1 1 0 1 0 1 1 0]\n",
      "[0.22791918 0.05192281]\n",
      "0.5923577979830943\n",
      "0.8776459945792582\n"
     ]
    }
   ],
   "source": [
    "model = linear_model.LinearRegression()\n",
    "print(df[['x','y']])\n",
    "X = np.array(df[['x','y']]).reshape(-1,2)\n",
    "y = np.array(df['s'])\n",
    "print(X, y)\n",
    "model.fit(X,y)\n",
    "print(model.coef_)\n",
    "print(model.intercept_)\n",
    "print(model.score(X,y))"
   ]
  },
  {
   "cell_type": "code",
   "execution_count": null,
   "metadata": {},
   "outputs": [],
   "source": []
  }
 ],
 "metadata": {
  "kernelspec": {
   "display_name": "myanacondaenvironment",
   "language": "python",
   "name": "python3"
  },
  "language_info": {
   "codemirror_mode": {
    "name": "ipython",
    "version": 3
   },
   "file_extension": ".py",
   "mimetype": "text/x-python",
   "name": "python",
   "nbconvert_exporter": "python",
   "pygments_lexer": "ipython3",
   "version": "3.11.5"
  }
 },
 "nbformat": 4,
 "nbformat_minor": 2
}
